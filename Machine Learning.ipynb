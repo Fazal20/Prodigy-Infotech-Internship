{
 "cells": [
  {
   "cell_type": "markdown",
   "id": "7e3ac6cc",
   "metadata": {},
   "source": [
    "# Implement a Linear Regression Model to predict the prices of houses based on square footages etc...."
   ]
  },
  {
   "cell_type": "code",
   "execution_count": 2,
   "id": "acd8b6b1",
   "metadata": {},
   "outputs": [
    {
     "name": "stdout",
     "output_type": "stream",
     "text": [
      "Mean Squared Error: 0.5558915986952425\n",
      "R-squared: 0.5757877060324521\n"
     ]
    },
    {
     "data": {
      "image/png": "[encoded data removed]",
      "text/plain": [
       "<Figure size 432x288 with 1 Axes>"
      ]
     },
     "metadata": {
      "needs_background": "light"
     },
     "output_type": "display_data"
    }
   ],
   "source": [
    "import numpy as np\n",
    "import pandas as pd\n",
    "from sklearn.model_selection import train_test_split\n",
    "from sklearn.linear_model import LinearRegression\n",
    "from sklearn.datasets import fetch_california_housing\n",
    "from sklearn.metrics import mean_squared_error, r2_score\n",
    "import matplotlib.pyplot as plt\n",
    "\n",
    "# Load the California Housing dataset\n",
    "california_housing = fetch_california_housing()\n",
    "X, y = california_housing.data, california_housing.target\n",
    "feature_names = california_housing.feature_names\n",
    "\n",
    "# Convert the data into a DataFrame for easier manipulation\n",
    "california_df = pd.DataFrame(X, columns=feature_names)\n",
    "california_df['PRICE'] = y  # Add target variable (median house value)\n",
    "\n",
    "# Select features and target variable\n",
    "X = california_df[['MedInc', 'HouseAge', 'AveRooms', 'AveBedrms', 'Population', 'AveOccup', 'Latitude', 'Longitude']].values\n",
    "y = california_df['PRICE'].values\n",
    "\n",
    "# Split data into training and testing sets\n",
    "X_train, X_test, y_train, y_test = train_test_split(X, y, test_size=0.2, random_state=42)\n",
    "\n",
    "# Create and train the linear regression model\n",
    "model = LinearRegression()\n",
    "model.fit(X_train, y_train)\n",
    "\n",
    "# Make predictions on the test set\n",
    "y_pred = model.predict(X_test)\n",
    "\n",
    "# Evaluate the model\n",
    "mse = mean_squared_error(y_test, y_pred)\n",
    "r2 = r2_score(y_test, y_pred)\n",
    "print(\"Mean Squared Error:\", mse)\n",
    "print(\"R-squared:\", r2)\n",
    "\n",
    "# Plotting predicted vs. actual prices\n",
    "plt.scatter(y_test, y_pred)\n",
    "plt.xlabel(\"Actual Median House Value\")\n",
    "plt.ylabel(\"Predicted Median House Value\")\n",
    "plt.title(\"Actual vs. Predicted Median House Value\")\n",
    "plt.show()\n"
   ]
  },
  {
   "cell_type": "markdown",
   "id": "109ba4f0",
   "metadata": {},
   "source": [
    "# Create a K means clustering algorithm to group customers of a retail store based on their purchase history."
   ]
  },
  {
   "cell_type": "code",
   "execution_count": 3,
   "id": "7f8c6904",
   "metadata": {},
   "outputs": [
    {
     "name": "stdout",
     "output_type": "stream",
     "text": [
      "Customer 1 is in cluster 2\n",
      "Customer 2 is in cluster 1\n",
      "Customer 3 is in cluster 3\n",
      "Customer 4 is in cluster 2\n",
      "Customer 5 is in cluster 1\n",
      "Customer 6 is in cluster 3\n",
      "Customer 7 is in cluster 2\n",
      "Customer 8 is in cluster 3\n",
      "\n",
      "Cluster Centroids:\n",
      "Cluster 1: [137.5  67.5  95.   45. ]\n",
      "Cluster 2: [88.33333333 38.33333333 65.         18.33333333]\n",
      "Cluster 3: [180.          90.         118.33333333  63.33333333]\n"
     ]
    }
   ],
   "source": [
    "import numpy as np\n",
    "from sklearn.cluster import KMeans\n",
    "\n",
    "# Sample customer purchase data\n",
    "customer_data = np.array([[100, 50, 75, 25],\n",
    "                         [150, 75, 100, 50],\n",
    "                         [200, 100, 125, 75],\n",
    "                         [75, 25, 50, 10],\n",
    "                         [125, 60, 90, 40],\n",
    "                         [180, 90, 110, 60],\n",
    "                         [90, 40, 70, 20],\n",
    "                         [160, 80, 120, 55]])\n",
    "\n",
    "# Define the number of clusters\n",
    "num_clusters = 3\n",
    "\n",
    "# Initialize the K-means algorithm\n",
    "kmeans = KMeans(n_clusters=num_clusters, random_state=0)\n",
    "\n",
    "# Fit the customer data to the K-means model\n",
    "kmeans.fit(customer_data)\n",
    "\n",
    "# Get the cluster assignments for each customer\n",
    "cluster_assignments = kmeans.labels_\n",
    "\n",
    "# Print the cluster assignments for each customer\n",
    "for i, cluster in enumerate(cluster_assignments):\n",
    "    print(f\"Customer {i+1} is in cluster {cluster+1}\")\n",
    "\n",
    "# Get the cluster centroids\n",
    "cluster_centroids = kmeans.cluster_centers_\n",
    "\n",
    "# Print the cluster centroids\n",
    "print(\"\\nCluster Centroids:\")\n",
    "for i, centroid in enumerate(cluster_centroids):\n",
    "    print(f\"Cluster {i+1}: {centroid}\")"
   ]
  },
  {
   "cell_type": "code",
   "execution_count": null,
   "id": "dcbb4b1e",
   "metadata": {},
   "outputs": [],
   "source": []
  }
 ],
 "metadata": {
  "kernelspec": {
   "display_name": "Python 3 (ipykernel)",
   "language": "python",
   "name": "python3"
  },
  "language_info": {
   "codemirror_mode": {
    "name": "ipython",
    "version": 3
   },
   "file_extension": ".py",
   "mimetype": "text/x-python",
   "name": "python",
   "nbconvert_exporter": "python",
   "pygments_lexer": "ipython3",
   "version": "3.9.12"
  }
 },
 "nbformat": 4,
 "nbformat_minor": 5
}
